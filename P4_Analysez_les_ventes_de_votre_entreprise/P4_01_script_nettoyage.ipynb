{
 "cells": [
  {
   "cell_type": "code",
   "execution_count": 102,
   "id": "50ca311e",
   "metadata": {},
   "outputs": [],
   "source": [
    "#Importation des librairies\n",
    "from os import chdir\n",
    "import os\n",
    "os.chdir(r'C:\\Users\\ACER\\Desktop\\Cours numerique\\Cours Python\\Parcours Data analyst Openclassrooms\\Projet 4\\dataset_P4')\n",
    "import pandas as pd\n",
    "import matplotlib.pyplot as plt\n",
    "import seaborn as sns\n",
    "import numpy as np\n",
    "from datetime import datetime \n",
    "import scipy.stats as st"
   ]
  },
  {
   "cell_type": "code",
   "execution_count": 103,
   "id": "aa236b95",
   "metadata": {},
   "outputs": [],
   "source": [
    "#Conversion des datasets en dataframe \n",
    "customers = pd.read_csv(\"customers.csv\")\n",
    "products = pd.read_csv(\"products.csv\")\n",
    "transactions = pd.read_csv(\"transactions.csv\")"
   ]
  },
  {
   "cell_type": "code",
   "execution_count": 104,
   "id": "4c4c0fb3",
   "metadata": {},
   "outputs": [],
   "source": [
    "#Nettoyage fichier customers"
   ]
  },
  {
   "cell_type": "code",
   "execution_count": 105,
   "id": "ea4cb98e",
   "metadata": {},
   "outputs": [
    {
     "data": {
      "text/plain": [
       "client_id    0\n",
       "sex          0\n",
       "birth        0\n",
       "dtype: int64"
      ]
     },
     "execution_count": 105,
     "metadata": {},
     "output_type": "execute_result"
    }
   ],
   "source": [
    "#Detection valeurs non connues\n",
    "customers.isna().sum()"
   ]
  },
  {
   "cell_type": "code",
   "execution_count": 106,
   "id": "ab68d319",
   "metadata": {},
   "outputs": [
    {
     "data": {
      "text/plain": [
       "client_id    0\n",
       "sex          0\n",
       "birth        0\n",
       "dtype: int64"
      ]
     },
     "execution_count": 106,
     "metadata": {},
     "output_type": "execute_result"
    }
   ],
   "source": [
    "#Detection valeurs nulles\n",
    "customers.isnull().sum()"
   ]
  },
  {
   "cell_type": "code",
   "execution_count": 107,
   "id": "766f14b5",
   "metadata": {},
   "outputs": [],
   "source": [
    "#convertir la colonne birth en date et créer une colonne birth avec l'année\n",
    "customers[\"birth\"] = pd.to_datetime(customers[\"birth\"],format=\"%Y\")\n",
    "customers[\"birth_year\"] = customers['birth'].dt.year"
   ]
  },
  {
   "cell_type": "code",
   "execution_count": 108,
   "id": "50291116",
   "metadata": {},
   "outputs": [
    {
     "data": {
      "text/html": [
       "<div>\n",
       "<style scoped>\n",
       "    .dataframe tbody tr th:only-of-type {\n",
       "        vertical-align: middle;\n",
       "    }\n",
       "\n",
       "    .dataframe tbody tr th {\n",
       "        vertical-align: top;\n",
       "    }\n",
       "\n",
       "    .dataframe thead th {\n",
       "        text-align: right;\n",
       "    }\n",
       "</style>\n",
       "<table border=\"1\" class=\"dataframe\">\n",
       "  <thead>\n",
       "    <tr style=\"text-align: right;\">\n",
       "      <th></th>\n",
       "      <th>client_id</th>\n",
       "      <th>sex</th>\n",
       "      <th>birth</th>\n",
       "      <th>birth_year</th>\n",
       "      <th>age</th>\n",
       "      <th>cat_ages</th>\n",
       "    </tr>\n",
       "  </thead>\n",
       "  <tbody>\n",
       "    <tr>\n",
       "      <th>0</th>\n",
       "      <td>c_4410</td>\n",
       "      <td>f</td>\n",
       "      <td>1967-01-01</td>\n",
       "      <td>1967</td>\n",
       "      <td>52</td>\n",
       "      <td>- 20 ans</td>\n",
       "    </tr>\n",
       "    <tr>\n",
       "      <th>1</th>\n",
       "      <td>c_7839</td>\n",
       "      <td>f</td>\n",
       "      <td>1975-01-01</td>\n",
       "      <td>1975</td>\n",
       "      <td>44</td>\n",
       "      <td>- 20 ans</td>\n",
       "    </tr>\n",
       "    <tr>\n",
       "      <th>2</th>\n",
       "      <td>c_1699</td>\n",
       "      <td>f</td>\n",
       "      <td>1984-01-01</td>\n",
       "      <td>1984</td>\n",
       "      <td>35</td>\n",
       "      <td>- 20 ans</td>\n",
       "    </tr>\n",
       "    <tr>\n",
       "      <th>3</th>\n",
       "      <td>c_5961</td>\n",
       "      <td>f</td>\n",
       "      <td>1962-01-01</td>\n",
       "      <td>1962</td>\n",
       "      <td>57</td>\n",
       "      <td>- 20 ans</td>\n",
       "    </tr>\n",
       "    <tr>\n",
       "      <th>4</th>\n",
       "      <td>c_5320</td>\n",
       "      <td>m</td>\n",
       "      <td>1943-01-01</td>\n",
       "      <td>1943</td>\n",
       "      <td>76</td>\n",
       "      <td>- 20 ans</td>\n",
       "    </tr>\n",
       "  </tbody>\n",
       "</table>\n",
       "</div>"
      ],
      "text/plain": [
       "  client_id sex      birth  birth_year  age  cat_ages\n",
       "0    c_4410   f 1967-01-01        1967   52  - 20 ans\n",
       "1    c_7839   f 1975-01-01        1975   44  - 20 ans\n",
       "2    c_1699   f 1984-01-01        1984   35  - 20 ans\n",
       "3    c_5961   f 1962-01-01        1962   57  - 20 ans\n",
       "4    c_5320   m 1943-01-01        1943   76  - 20 ans"
      ]
     },
     "execution_count": 108,
     "metadata": {},
     "output_type": "execute_result"
    }
   ],
   "source": [
    "#création d'une variable age quantitatives basée sur la colonne birth \n",
    "now = pd.to_datetime('now')\n",
    "customers['age'] = (now.year - customers['birth'].dt.year) - ((now.month - customers['birth'].dt.month))\n",
    "\n",
    "#discrétisation de la variable age en une variable qualitatives \"tranches_age\" avec 8 classes\n",
    "tranches_age = [(customers.age<=20),(customers.age>20)&(customers.age<=30),(customers.age>30)&(customers.age<=40),(customers.age>40)&(customers.age<=50),(customers.age>50)&(customers.age<=60),(customers.age>60)&(customers.age<=70),(customers.age>70)&(customers.age<=80),(customers.age>80)]\n",
    "age_list = [\"- 20 ans\",\"21-30\",\"31-40\",\"41-50\",\"51-60\",\"61-70\",\"71-80\",\"> 80 ans\"]\n",
    "customers[\"cat_ages\"] = np.select(tranches_age,age_list,default=\"Not specified\")\n",
    "customers[\"cat_ages\"] = np.sort(customers[\"cat_ages\"])\n",
    "customers.head()"
   ]
  },
  {
   "cell_type": "code",
   "execution_count": 109,
   "id": "25f38d66",
   "metadata": {},
   "outputs": [
    {
     "data": {
      "text/plain": [
       "id_prod    0\n",
       "price      0\n",
       "categ      0\n",
       "dtype: int64"
      ]
     },
     "execution_count": 109,
     "metadata": {},
     "output_type": "execute_result"
    }
   ],
   "source": [
    "#Detection valeurs non connues\n",
    "products.isna().sum()"
   ]
  },
  {
   "cell_type": "code",
   "execution_count": 110,
   "id": "89900ff9",
   "metadata": {},
   "outputs": [
    {
     "data": {
      "text/plain": [
       "id_prod    0\n",
       "price      0\n",
       "categ      0\n",
       "dtype: int64"
      ]
     },
     "execution_count": 110,
     "metadata": {},
     "output_type": "execute_result"
    }
   ],
   "source": [
    "#Detection valeurs nulles\n",
    "products.isnull().sum()"
   ]
  },
  {
   "cell_type": "code",
   "execution_count": 111,
   "id": "50d263d2",
   "metadata": {},
   "outputs": [],
   "source": [
    "#conversion de la variable categ en variable string\n",
    "products[\"categ\"] = products[\"categ\"].apply(np.str)"
   ]
  },
  {
   "cell_type": "code",
   "execution_count": 112,
   "id": "e70a83f8",
   "metadata": {},
   "outputs": [],
   "source": [
    "#Nettoyage fichier transactions"
   ]
  },
  {
   "cell_type": "code",
   "execution_count": 113,
   "id": "c7d4911b",
   "metadata": {},
   "outputs": [
    {
     "data": {
      "text/plain": [
       "id_prod       0\n",
       "date          0\n",
       "session_id    0\n",
       "client_id     0\n",
       "dtype: int64"
      ]
     },
     "execution_count": 113,
     "metadata": {},
     "output_type": "execute_result"
    }
   ],
   "source": [
    "#Detection valeurs non connues\n",
    "transactions.isna().sum()"
   ]
  },
  {
   "cell_type": "code",
   "execution_count": 114,
   "id": "d5b827ca",
   "metadata": {},
   "outputs": [
    {
     "data": {
      "text/plain": [
       "id_prod       0\n",
       "date          0\n",
       "session_id    0\n",
       "client_id     0\n",
       "dtype: int64"
      ]
     },
     "execution_count": 114,
     "metadata": {},
     "output_type": "execute_result"
    }
   ],
   "source": [
    "#Detection valeurs null\n",
    "transactions.isnull().sum()"
   ]
  },
  {
   "cell_type": "code",
   "execution_count": 115,
   "id": "6332c3c0",
   "metadata": {},
   "outputs": [
    {
     "data": {
      "text/plain": [
       "id_prod       0\n",
       "date          0\n",
       "session_id    0\n",
       "client_id     0\n",
       "sex           0\n",
       "birth         0\n",
       "birth_year    0\n",
       "age           0\n",
       "cat_ages      0\n",
       "dtype: int64"
      ]
     },
     "execution_count": 115,
     "metadata": {},
     "output_type": "execute_result"
    }
   ],
   "source": [
    "# jointure gauche entre les dataframes transactions et customers\n",
    "data_livres = transactions.merge(customers,how='left',on=[\"client_id\"])\n",
    "data_livres.isnull().sum()"
   ]
  },
  {
   "cell_type": "code",
   "execution_count": 116,
   "id": "7a26f84f",
   "metadata": {},
   "outputs": [
    {
     "data": {
      "text/plain": [
       "id_prod         0\n",
       "date            0\n",
       "session_id      0\n",
       "client_id       0\n",
       "sex             0\n",
       "birth           0\n",
       "birth_year      0\n",
       "age             0\n",
       "cat_ages        0\n",
       "price         103\n",
       "categ         103\n",
       "dtype: int64"
      ]
     },
     "execution_count": 116,
     "metadata": {},
     "output_type": "execute_result"
    }
   ],
   "source": [
    "# jointure gauche entre les dataframes transactions et customers\n",
    "data_livres = data_livres.merge(products,how='left',on=[\"id_prod\"])\n",
    "data_livres = data_livres.sort_values(by='date',ascending=True)\n",
    "data_livres.isnull().sum()\n",
    "#on note 103 observations sans valeur de prix ni categ"
   ]
  },
  {
   "cell_type": "code",
   "execution_count": 118,
   "id": "ff6a05ae",
   "metadata": {},
   "outputs": [
    {
     "name": "stdout",
     "output_type": "stream",
     "text": [
      "<class 'pandas.core.frame.DataFrame'>\n",
      "Int64Index: 337016 entries, 176588 to 38779\n",
      "Data columns (total 11 columns):\n",
      " #   Column      Non-Null Count   Dtype         \n",
      "---  ------      --------------   -----         \n",
      " 0   id_prod     337016 non-null  object        \n",
      " 1   date        337016 non-null  object        \n",
      " 2   session_id  337016 non-null  object        \n",
      " 3   client_id   337016 non-null  object        \n",
      " 4   sex         337016 non-null  object        \n",
      " 5   birth       337016 non-null  datetime64[ns]\n",
      " 6   birth_year  337016 non-null  int64         \n",
      " 7   age         337016 non-null  int64         \n",
      " 8   cat_ages    337016 non-null  object        \n",
      " 9   price       336913 non-null  float64       \n",
      " 10  categ       336913 non-null  object        \n",
      "dtypes: datetime64[ns](1), float64(1), int64(2), object(7)\n",
      "memory usage: 21.9+ MB\n"
     ]
    }
   ],
   "source": [
    "data_livres.info()"
   ]
  },
  {
   "cell_type": "code",
   "execution_count": 119,
   "id": "e51f9767",
   "metadata": {},
   "outputs": [
    {
     "data": {
      "text/html": [
       "<div>\n",
       "<style scoped>\n",
       "    .dataframe tbody tr th:only-of-type {\n",
       "        vertical-align: middle;\n",
       "    }\n",
       "\n",
       "    .dataframe tbody tr th {\n",
       "        vertical-align: top;\n",
       "    }\n",
       "\n",
       "    .dataframe thead th {\n",
       "        text-align: right;\n",
       "    }\n",
       "</style>\n",
       "<table border=\"1\" class=\"dataframe\">\n",
       "  <thead>\n",
       "    <tr style=\"text-align: right;\">\n",
       "      <th></th>\n",
       "      <th>id_prod</th>\n",
       "      <th>date</th>\n",
       "      <th>session_id</th>\n",
       "      <th>client_id</th>\n",
       "      <th>sex</th>\n",
       "      <th>birth</th>\n",
       "      <th>birth_year</th>\n",
       "      <th>age</th>\n",
       "      <th>cat_ages</th>\n",
       "      <th>price</th>\n",
       "      <th>categ</th>\n",
       "    </tr>\n",
       "  </thead>\n",
       "  <tbody>\n",
       "    <tr>\n",
       "      <th>21078</th>\n",
       "      <td>0_2245</td>\n",
       "      <td>2021-03-01 00:09:29.301897</td>\n",
       "      <td>s_3</td>\n",
       "      <td>c_580</td>\n",
       "      <td>m</td>\n",
       "      <td>1988-01-01</td>\n",
       "      <td>1988</td>\n",
       "      <td>31</td>\n",
       "      <td>21-30</td>\n",
       "      <td>NaN</td>\n",
       "      <td>NaN</td>\n",
       "    </tr>\n",
       "    <tr>\n",
       "      <th>127490</th>\n",
       "      <td>0_2245</td>\n",
       "      <td>2021-03-02 15:55:49.728644</td>\n",
       "      <td>s_783</td>\n",
       "      <td>c_8060</td>\n",
       "      <td>f</td>\n",
       "      <td>1979-01-01</td>\n",
       "      <td>1979</td>\n",
       "      <td>40</td>\n",
       "      <td>61-70</td>\n",
       "      <td>NaN</td>\n",
       "      <td>NaN</td>\n",
       "    </tr>\n",
       "    <tr>\n",
       "      <th>114875</th>\n",
       "      <td>0_2245</td>\n",
       "      <td>2021-03-07 20:00:01.525768</td>\n",
       "      <td>s_3159</td>\n",
       "      <td>c_1189</td>\n",
       "      <td>m</td>\n",
       "      <td>1985-01-01</td>\n",
       "      <td>1985</td>\n",
       "      <td>34</td>\n",
       "      <td>21-30</td>\n",
       "      <td>NaN</td>\n",
       "      <td>NaN</td>\n",
       "    </tr>\n",
       "    <tr>\n",
       "      <th>163566</th>\n",
       "      <td>0_2245</td>\n",
       "      <td>2021-03-23 15:57:44.266387</td>\n",
       "      <td>s_10427</td>\n",
       "      <td>c_5869</td>\n",
       "      <td>f</td>\n",
       "      <td>1952-01-01</td>\n",
       "      <td>1952</td>\n",
       "      <td>67</td>\n",
       "      <td>31-40</td>\n",
       "      <td>NaN</td>\n",
       "      <td>NaN</td>\n",
       "    </tr>\n",
       "    <tr>\n",
       "      <th>277022</th>\n",
       "      <td>0_2245</td>\n",
       "      <td>2021-03-28 10:46:04.804784</td>\n",
       "      <td>s_12567</td>\n",
       "      <td>c_966</td>\n",
       "      <td>f</td>\n",
       "      <td>1981-01-01</td>\n",
       "      <td>1981</td>\n",
       "      <td>38</td>\n",
       "      <td>21-30</td>\n",
       "      <td>NaN</td>\n",
       "      <td>NaN</td>\n",
       "    </tr>\n",
       "    <tr>\n",
       "      <th>...</th>\n",
       "      <td>...</td>\n",
       "      <td>...</td>\n",
       "      <td>...</td>\n",
       "      <td>...</td>\n",
       "      <td>...</td>\n",
       "      <td>...</td>\n",
       "      <td>...</td>\n",
       "      <td>...</td>\n",
       "      <td>...</td>\n",
       "      <td>...</td>\n",
       "      <td>...</td>\n",
       "    </tr>\n",
       "    <tr>\n",
       "      <th>297223</th>\n",
       "      <td>0_2245</td>\n",
       "      <td>2022-02-20 03:50:42.646180</td>\n",
       "      <td>s_167926</td>\n",
       "      <td>c_7287</td>\n",
       "      <td>f</td>\n",
       "      <td>1978-01-01</td>\n",
       "      <td>1978</td>\n",
       "      <td>41</td>\n",
       "      <td>- 20 ans</td>\n",
       "      <td>NaN</td>\n",
       "      <td>NaN</td>\n",
       "    </tr>\n",
       "    <tr>\n",
       "      <th>37138</th>\n",
       "      <td>0_2245</td>\n",
       "      <td>2022-02-24 04:18:45.054650</td>\n",
       "      <td>s_169978</td>\n",
       "      <td>c_5953</td>\n",
       "      <td>m</td>\n",
       "      <td>1986-01-01</td>\n",
       "      <td>1986</td>\n",
       "      <td>33</td>\n",
       "      <td>21-30</td>\n",
       "      <td>NaN</td>\n",
       "      <td>NaN</td>\n",
       "    </tr>\n",
       "    <tr>\n",
       "      <th>24584</th>\n",
       "      <td>0_2245</td>\n",
       "      <td>2022-02-25 00:08:08.736068</td>\n",
       "      <td>s_170426</td>\n",
       "      <td>c_6236</td>\n",
       "      <td>f</td>\n",
       "      <td>1976-01-01</td>\n",
       "      <td>1976</td>\n",
       "      <td>43</td>\n",
       "      <td>71-80</td>\n",
       "      <td>NaN</td>\n",
       "      <td>NaN</td>\n",
       "    </tr>\n",
       "    <tr>\n",
       "      <th>124233</th>\n",
       "      <td>0_2245</td>\n",
       "      <td>2022-02-25 06:36:49.557289</td>\n",
       "      <td>s_170548</td>\n",
       "      <td>c_2242</td>\n",
       "      <td>f</td>\n",
       "      <td>1991-01-01</td>\n",
       "      <td>1991</td>\n",
       "      <td>28</td>\n",
       "      <td>31-40</td>\n",
       "      <td>NaN</td>\n",
       "      <td>NaN</td>\n",
       "    </tr>\n",
       "    <tr>\n",
       "      <th>17486</th>\n",
       "      <td>0_2245</td>\n",
       "      <td>2022-02-28 18:08:49.875709</td>\n",
       "      <td>s_172304</td>\n",
       "      <td>c_4964</td>\n",
       "      <td>f</td>\n",
       "      <td>1982-01-01</td>\n",
       "      <td>1982</td>\n",
       "      <td>37</td>\n",
       "      <td>61-70</td>\n",
       "      <td>NaN</td>\n",
       "      <td>NaN</td>\n",
       "    </tr>\n",
       "  </tbody>\n",
       "</table>\n",
       "<p>103 rows × 11 columns</p>\n",
       "</div>"
      ],
      "text/plain": [
       "       id_prod                        date session_id client_id sex  \\\n",
       "21078   0_2245  2021-03-01 00:09:29.301897        s_3     c_580   m   \n",
       "127490  0_2245  2021-03-02 15:55:49.728644      s_783    c_8060   f   \n",
       "114875  0_2245  2021-03-07 20:00:01.525768     s_3159    c_1189   m   \n",
       "163566  0_2245  2021-03-23 15:57:44.266387    s_10427    c_5869   f   \n",
       "277022  0_2245  2021-03-28 10:46:04.804784    s_12567     c_966   f   \n",
       "...        ...                         ...        ...       ...  ..   \n",
       "297223  0_2245  2022-02-20 03:50:42.646180   s_167926    c_7287   f   \n",
       "37138   0_2245  2022-02-24 04:18:45.054650   s_169978    c_5953   m   \n",
       "24584   0_2245  2022-02-25 00:08:08.736068   s_170426    c_6236   f   \n",
       "124233  0_2245  2022-02-25 06:36:49.557289   s_170548    c_2242   f   \n",
       "17486   0_2245  2022-02-28 18:08:49.875709   s_172304    c_4964   f   \n",
       "\n",
       "            birth  birth_year  age  cat_ages  price categ  \n",
       "21078  1988-01-01        1988   31     21-30    NaN   NaN  \n",
       "127490 1979-01-01        1979   40     61-70    NaN   NaN  \n",
       "114875 1985-01-01        1985   34     21-30    NaN   NaN  \n",
       "163566 1952-01-01        1952   67     31-40    NaN   NaN  \n",
       "277022 1981-01-01        1981   38     21-30    NaN   NaN  \n",
       "...           ...         ...  ...       ...    ...   ...  \n",
       "297223 1978-01-01        1978   41  - 20 ans    NaN   NaN  \n",
       "37138  1986-01-01        1986   33     21-30    NaN   NaN  \n",
       "24584  1976-01-01        1976   43     71-80    NaN   NaN  \n",
       "124233 1991-01-01        1991   28     31-40    NaN   NaN  \n",
       "17486  1982-01-01        1982   37     61-70    NaN   NaN  \n",
       "\n",
       "[103 rows x 11 columns]"
      ]
     },
     "execution_count": 119,
     "metadata": {},
     "output_type": "execute_result"
    }
   ],
   "source": [
    "#creation d'une dataframe data_livres_error avec les transactions sans prix ni categ\n",
    "data_livres_error = data_livres.loc[data_livres.price.isnull()]\n",
    "data_livres_error"
   ]
  },
  {
   "cell_type": "code",
   "execution_count": 120,
   "id": "0a27db9c",
   "metadata": {},
   "outputs": [
    {
     "data": {
      "text/plain": [
       "count        103\n",
       "unique         1\n",
       "top       0_2245\n",
       "freq         103\n",
       "Name: id_prod, dtype: object"
      ]
     },
     "execution_count": 120,
     "metadata": {},
     "output_type": "execute_result"
    }
   ],
   "source": [
    "#Il semble que le livre sous l'id \"0_2245\" ne s'est pas vu associé une categorie et un prix associé\n",
    "data_livres_error.id_prod.describe()"
   ]
  },
  {
   "cell_type": "code",
   "execution_count": 121,
   "id": "f311e3ee",
   "metadata": {},
   "outputs": [
    {
     "data": {
      "text/html": [
       "<div>\n",
       "<style scoped>\n",
       "    .dataframe tbody tr th:only-of-type {\n",
       "        vertical-align: middle;\n",
       "    }\n",
       "\n",
       "    .dataframe tbody tr th {\n",
       "        vertical-align: top;\n",
       "    }\n",
       "\n",
       "    .dataframe thead th {\n",
       "        text-align: right;\n",
       "    }\n",
       "</style>\n",
       "<table border=\"1\" class=\"dataframe\">\n",
       "  <thead>\n",
       "    <tr style=\"text-align: right;\">\n",
       "      <th></th>\n",
       "      <th>id_prod</th>\n",
       "      <th>date</th>\n",
       "      <th>session_id</th>\n",
       "      <th>client_id</th>\n",
       "    </tr>\n",
       "  </thead>\n",
       "  <tbody>\n",
       "    <tr>\n",
       "      <th>6235</th>\n",
       "      <td>0_2245</td>\n",
       "      <td>2021-06-17 03:03:12.668129</td>\n",
       "      <td>s_49705</td>\n",
       "      <td>c_1533</td>\n",
       "    </tr>\n",
       "    <tr>\n",
       "      <th>10802</th>\n",
       "      <td>0_2245</td>\n",
       "      <td>2021-06-16 05:53:01.627491</td>\n",
       "      <td>s_49323</td>\n",
       "      <td>c_7954</td>\n",
       "    </tr>\n",
       "    <tr>\n",
       "      <th>14051</th>\n",
       "      <td>0_2245</td>\n",
       "      <td>2021-11-24 17:35:59.911427</td>\n",
       "      <td>s_124474</td>\n",
       "      <td>c_5120</td>\n",
       "    </tr>\n",
       "    <tr>\n",
       "      <th>17486</th>\n",
       "      <td>0_2245</td>\n",
       "      <td>2022-02-28 18:08:49.875709</td>\n",
       "      <td>s_172304</td>\n",
       "      <td>c_4964</td>\n",
       "    </tr>\n",
       "    <tr>\n",
       "      <th>21078</th>\n",
       "      <td>0_2245</td>\n",
       "      <td>2021-03-01 00:09:29.301897</td>\n",
       "      <td>s_3</td>\n",
       "      <td>c_580</td>\n",
       "    </tr>\n",
       "    <tr>\n",
       "      <th>...</th>\n",
       "      <td>...</td>\n",
       "      <td>...</td>\n",
       "      <td>...</td>\n",
       "      <td>...</td>\n",
       "    </tr>\n",
       "    <tr>\n",
       "      <th>322710</th>\n",
       "      <td>0_2245</td>\n",
       "      <td>2021-04-06 19:59:19.462288</td>\n",
       "      <td>s_16936</td>\n",
       "      <td>c_4167</td>\n",
       "    </tr>\n",
       "    <tr>\n",
       "      <th>329417</th>\n",
       "      <td>0_2245</td>\n",
       "      <td>2021-03-30 23:29:02.347672</td>\n",
       "      <td>s_13738</td>\n",
       "      <td>c_7790</td>\n",
       "    </tr>\n",
       "    <tr>\n",
       "      <th>330490</th>\n",
       "      <td>0_2245</td>\n",
       "      <td>2021-12-03 14:14:40.444177</td>\n",
       "      <td>s_128815</td>\n",
       "      <td>c_6189</td>\n",
       "    </tr>\n",
       "    <tr>\n",
       "      <th>335531</th>\n",
       "      <td>0_2245</td>\n",
       "      <td>2021-04-27 18:58:47.703374</td>\n",
       "      <td>s_26624</td>\n",
       "      <td>c_1595</td>\n",
       "    </tr>\n",
       "    <tr>\n",
       "      <th>336220</th>\n",
       "      <td>0_2245</td>\n",
       "      <td>2021-05-01 03:35:03.146305</td>\n",
       "      <td>s_28235</td>\n",
       "      <td>c_5714</td>\n",
       "    </tr>\n",
       "  </tbody>\n",
       "</table>\n",
       "<p>103 rows × 4 columns</p>\n",
       "</div>"
      ],
      "text/plain": [
       "       id_prod                        date session_id client_id\n",
       "6235    0_2245  2021-06-17 03:03:12.668129    s_49705    c_1533\n",
       "10802   0_2245  2021-06-16 05:53:01.627491    s_49323    c_7954\n",
       "14051   0_2245  2021-11-24 17:35:59.911427   s_124474    c_5120\n",
       "17486   0_2245  2022-02-28 18:08:49.875709   s_172304    c_4964\n",
       "21078   0_2245  2021-03-01 00:09:29.301897        s_3     c_580\n",
       "...        ...                         ...        ...       ...\n",
       "322710  0_2245  2021-04-06 19:59:19.462288    s_16936    c_4167\n",
       "329417  0_2245  2021-03-30 23:29:02.347672    s_13738    c_7790\n",
       "330490  0_2245  2021-12-03 14:14:40.444177   s_128815    c_6189\n",
       "335531  0_2245  2021-04-27 18:58:47.703374    s_26624    c_1595\n",
       "336220  0_2245  2021-05-01 03:35:03.146305    s_28235    c_5714\n",
       "\n",
       "[103 rows x 4 columns]"
      ]
     },
     "execution_count": 121,
     "metadata": {},
     "output_type": "execute_result"
    }
   ],
   "source": [
    "#recherche de la référence \"0_2245\" sur transactions\n",
    "transactions.loc[transactions.id_prod == \"0_2245\"]"
   ]
  },
  {
   "cell_type": "code",
   "execution_count": 122,
   "id": "e7d4a5c9",
   "metadata": {},
   "outputs": [
    {
     "data": {
      "text/html": [
       "<div>\n",
       "<style scoped>\n",
       "    .dataframe tbody tr th:only-of-type {\n",
       "        vertical-align: middle;\n",
       "    }\n",
       "\n",
       "    .dataframe tbody tr th {\n",
       "        vertical-align: top;\n",
       "    }\n",
       "\n",
       "    .dataframe thead th {\n",
       "        text-align: right;\n",
       "    }\n",
       "</style>\n",
       "<table border=\"1\" class=\"dataframe\">\n",
       "  <thead>\n",
       "    <tr style=\"text-align: right;\">\n",
       "      <th></th>\n",
       "      <th>id_prod</th>\n",
       "      <th>price</th>\n",
       "      <th>categ</th>\n",
       "    </tr>\n",
       "  </thead>\n",
       "  <tbody>\n",
       "  </tbody>\n",
       "</table>\n",
       "</div>"
      ],
      "text/plain": [
       "Empty DataFrame\n",
       "Columns: [id_prod, price, categ]\n",
       "Index: []"
      ]
     },
     "execution_count": 122,
     "metadata": {},
     "output_type": "execute_result"
    }
   ],
   "source": [
    "#recherche de la référence \"0_2245\" sur produits\n",
    "products.loc[products.id_prod == \"0_2245\"]"
   ]
  },
  {
   "cell_type": "code",
   "execution_count": 126,
   "id": "d57e3582",
   "metadata": {},
   "outputs": [],
   "source": [
    "#On peut voir donc que les transactions sans prix ni categorie sont due au fait que le livre \"0_2245\" n'a pas été intégré dans la dataset products \n",
    "#Sachant que le livre référencé \"0_2245\" ne représente que 103 transactions sur les 337016 transactions, je vais donc supprimer les transactions liées à ce livre\n",
    "data_livres = data_livres.loc[data_livres.id_prod != \"0_2245\"]"
   ]
  },
  {
   "cell_type": "code",
   "execution_count": 127,
   "id": "b3305223",
   "metadata": {},
   "outputs": [
    {
     "data": {
      "text/html": [
       "<div>\n",
       "<style scoped>\n",
       "    .dataframe tbody tr th:only-of-type {\n",
       "        vertical-align: middle;\n",
       "    }\n",
       "\n",
       "    .dataframe tbody tr th {\n",
       "        vertical-align: top;\n",
       "    }\n",
       "\n",
       "    .dataframe thead th {\n",
       "        text-align: right;\n",
       "    }\n",
       "</style>\n",
       "<table border=\"1\" class=\"dataframe\">\n",
       "  <thead>\n",
       "    <tr style=\"text-align: right;\">\n",
       "      <th></th>\n",
       "      <th>id_prod</th>\n",
       "      <th>date</th>\n",
       "      <th>session_id</th>\n",
       "      <th>client_id</th>\n",
       "      <th>sex</th>\n",
       "      <th>birth</th>\n",
       "      <th>birth_year</th>\n",
       "      <th>age</th>\n",
       "      <th>cat_ages</th>\n",
       "      <th>price</th>\n",
       "      <th>categ</th>\n",
       "    </tr>\n",
       "  </thead>\n",
       "  <tbody>\n",
       "  </tbody>\n",
       "</table>\n",
       "</div>"
      ],
      "text/plain": [
       "Empty DataFrame\n",
       "Columns: [id_prod, date, session_id, client_id, sex, birth, birth_year, age, cat_ages, price, categ]\n",
       "Index: []"
      ]
     },
     "execution_count": 127,
     "metadata": {},
     "output_type": "execute_result"
    }
   ],
   "source": [
    "data_livres.loc[data_livres.id_prod == '0_2245']"
   ]
  },
  {
   "cell_type": "code",
   "execution_count": 128,
   "id": "babd28ff",
   "metadata": {},
   "outputs": [
    {
     "name": "stdout",
     "output_type": "stream",
     "text": [
      "<class 'pandas.core.frame.DataFrame'>\n",
      "Int64Index: 336913 entries, 176588 to 38779\n",
      "Data columns (total 11 columns):\n",
      " #   Column      Non-Null Count   Dtype         \n",
      "---  ------      --------------   -----         \n",
      " 0   id_prod     336913 non-null  object        \n",
      " 1   date        336913 non-null  object        \n",
      " 2   session_id  336913 non-null  object        \n",
      " 3   client_id   336913 non-null  object        \n",
      " 4   sex         336913 non-null  object        \n",
      " 5   birth       336913 non-null  datetime64[ns]\n",
      " 6   birth_year  336913 non-null  int64         \n",
      " 7   age         336913 non-null  int64         \n",
      " 8   cat_ages    336913 non-null  object        \n",
      " 9   price       336913 non-null  float64       \n",
      " 10  categ       336913 non-null  object        \n",
      "dtypes: datetime64[ns](1), float64(1), int64(2), object(7)\n",
      "memory usage: 21.8+ MB\n"
     ]
    }
   ],
   "source": [
    "data_livres.info()"
   ]
  },
  {
   "cell_type": "code",
   "execution_count": 129,
   "id": "988de620",
   "metadata": {},
   "outputs": [],
   "source": [
    "#effacement des transactions test (id_prod = T_0)\n",
    "data_livres = data_livres.loc[data_livres.id_prod != 'T_0']"
   ]
  },
  {
   "cell_type": "code",
   "execution_count": 130,
   "id": "fe0e467b",
   "metadata": {},
   "outputs": [
    {
     "data": {
      "text/html": [
       "<div>\n",
       "<style scoped>\n",
       "    .dataframe tbody tr th:only-of-type {\n",
       "        vertical-align: middle;\n",
       "    }\n",
       "\n",
       "    .dataframe tbody tr th {\n",
       "        vertical-align: top;\n",
       "    }\n",
       "\n",
       "    .dataframe thead th {\n",
       "        text-align: right;\n",
       "    }\n",
       "</style>\n",
       "<table border=\"1\" class=\"dataframe\">\n",
       "  <thead>\n",
       "    <tr style=\"text-align: right;\">\n",
       "      <th></th>\n",
       "      <th>id_prod</th>\n",
       "      <th>date</th>\n",
       "      <th>session_id</th>\n",
       "      <th>client_id</th>\n",
       "      <th>sex</th>\n",
       "      <th>birth</th>\n",
       "      <th>birth_year</th>\n",
       "      <th>age</th>\n",
       "      <th>cat_ages</th>\n",
       "      <th>price</th>\n",
       "      <th>categ</th>\n",
       "    </tr>\n",
       "  </thead>\n",
       "  <tbody>\n",
       "  </tbody>\n",
       "</table>\n",
       "</div>"
      ],
      "text/plain": [
       "Empty DataFrame\n",
       "Columns: [id_prod, date, session_id, client_id, sex, birth, birth_year, age, cat_ages, price, categ]\n",
       "Index: []"
      ]
     },
     "execution_count": 130,
     "metadata": {},
     "output_type": "execute_result"
    }
   ],
   "source": [
    "data_livres.loc[data_livres.id_prod == 'T_0']"
   ]
  },
  {
   "cell_type": "code",
   "execution_count": 131,
   "id": "96f0f75e",
   "metadata": {},
   "outputs": [],
   "source": [
    "#transformer la colonne data en une colonne temporelle\n",
    "data_livres[\"date\"] = data_livres[\"date\"].str[:-7]\n",
    "data_livres[\"date\"] = pd.to_datetime(data_livres[\"date\"])"
   ]
  },
  {
   "cell_type": "code",
   "execution_count": 132,
   "id": "75759ae8",
   "metadata": {},
   "outputs": [],
   "source": [
    "#focus analyse sur année 2021 : élimination des transactions ayant lieu en 2022\n",
    "data_livres = data_livres.loc[data_livres['date'] < '2022-01-01']"
   ]
  },
  {
   "cell_type": "code",
   "execution_count": 133,
   "id": "65dcc237",
   "metadata": {},
   "outputs": [],
   "source": [
    "#discrétisation de la variable date en déclinaisons de variables qualitatives pour les horaires, les jours, mois et années d'un achat + la tranche horaire correspondante\n",
    "data_livres[\"time_purchase\"] = pd.to_datetime(data_livres[\"date\"], format='%H:%M:%S').dt.hour\n",
    "data_livres[\"annee_purchase\"] = pd.to_datetime(data_livres[\"date\"], format='%y:%m:%d').dt.year\n",
    "data_livres[\"month\"] = pd.to_datetime(data_livres[\"date\"], format='%y:%m:%d').dt.month\n",
    "data_livres[\"day_purchase\"] = pd.to_datetime(data_livres[\"date\"], format='%y:%m:%d').dt.day\n",
    "\n",
    "tranches_horaires = [(data_livres[\"time_purchase\"]<=9),(data_livres[\"time_purchase\"]>9)&(data_livres[\"time_purchase\"]<12),(data_livres[\"time_purchase\"]==12),(data_livres[\"time_purchase\"]>12)&(data_livres[\"time_purchase\"]<=18),(data_livres[\"time_purchase\"]>18)]\n",
    "tranches_list = [\"night\",\"morning\",\"noon\",\"afternoon\",\"evening\"]\n",
    "data_livres[\"day_time_purchase\"] = np.select(tranches_horaires,tranches_list,default='Not specificied')\n"
   ]
  },
  {
   "cell_type": "code",
   "execution_count": 134,
   "id": "3cb835f3",
   "metadata": {},
   "outputs": [
    {
     "name": "stdout",
     "output_type": "stream",
     "text": [
      "<class 'pandas.core.frame.DataFrame'>\n",
      "Int64Index: 277846 entries, 176588 to 320212\n",
      "Data columns (total 16 columns):\n",
      " #   Column             Non-Null Count   Dtype         \n",
      "---  ------             --------------   -----         \n",
      " 0   id_prod            277846 non-null  object        \n",
      " 1   date               277846 non-null  datetime64[ns]\n",
      " 2   session_id         277846 non-null  object        \n",
      " 3   client_id          277846 non-null  object        \n",
      " 4   sex                277846 non-null  object        \n",
      " 5   birth              277846 non-null  datetime64[ns]\n",
      " 6   birth_year         277846 non-null  int64         \n",
      " 7   age                277846 non-null  int64         \n",
      " 8   cat_ages           277846 non-null  object        \n",
      " 9   price              277846 non-null  float64       \n",
      " 10  categ              277846 non-null  object        \n",
      " 11  time_purchase      277846 non-null  int64         \n",
      " 12  annee_purchase     277846 non-null  int64         \n",
      " 13  month              277846 non-null  int64         \n",
      " 14  day_purchase       277846 non-null  int64         \n",
      " 15  day_time_purchase  277846 non-null  object        \n",
      "dtypes: datetime64[ns](2), float64(1), int64(6), object(7)\n",
      "memory usage: 28.6+ MB\n"
     ]
    }
   ],
   "source": [
    "data_livres.info()"
   ]
  },
  {
   "cell_type": "code",
   "execution_count": 100,
   "id": "dd44254a",
   "metadata": {},
   "outputs": [
    {
     "data": {
      "text/html": [
       "<div>\n",
       "<style scoped>\n",
       "    .dataframe tbody tr th:only-of-type {\n",
       "        vertical-align: middle;\n",
       "    }\n",
       "\n",
       "    .dataframe tbody tr th {\n",
       "        vertical-align: top;\n",
       "    }\n",
       "\n",
       "    .dataframe thead th {\n",
       "        text-align: right;\n",
       "    }\n",
       "</style>\n",
       "<table border=\"1\" class=\"dataframe\">\n",
       "  <thead>\n",
       "    <tr style=\"text-align: right;\">\n",
       "      <th></th>\n",
       "      <th>len</th>\n",
       "      <th>sum</th>\n",
       "      <th>percent</th>\n",
       "    </tr>\n",
       "    <tr>\n",
       "      <th>client_id</th>\n",
       "      <th></th>\n",
       "      <th></th>\n",
       "      <th></th>\n",
       "    </tr>\n",
       "  </thead>\n",
       "  <tbody>\n",
       "    <tr>\n",
       "      <th>c_1609</th>\n",
       "      <td>10770.0</td>\n",
       "      <td>134404.46</td>\n",
       "      <td>2.835010</td>\n",
       "    </tr>\n",
       "    <tr>\n",
       "      <th>c_4958</th>\n",
       "      <td>2059.0</td>\n",
       "      <td>116371.64</td>\n",
       "      <td>2.454641</td>\n",
       "    </tr>\n",
       "    <tr>\n",
       "      <th>c_6714</th>\n",
       "      <td>3743.0</td>\n",
       "      <td>60520.41</td>\n",
       "      <td>1.276564</td>\n",
       "    </tr>\n",
       "    <tr>\n",
       "      <th>c_3454</th>\n",
       "      <td>2639.0</td>\n",
       "      <td>43584.00</td>\n",
       "      <td>0.919323</td>\n",
       "    </tr>\n",
       "    <tr>\n",
       "      <th>c_7421</th>\n",
       "      <td>173.0</td>\n",
       "      <td>2327.54</td>\n",
       "      <td>0.049095</td>\n",
       "    </tr>\n",
       "  </tbody>\n",
       "</table>\n",
       "</div>"
      ],
      "text/plain": [
       "               len        sum   percent\n",
       "client_id                              \n",
       "c_1609     10770.0  134404.46  2.835010\n",
       "c_4958      2059.0  116371.64  2.454641\n",
       "c_6714      3743.0   60520.41  1.276564\n",
       "c_3454      2639.0   43584.00  0.919323\n",
       "c_7421       173.0    2327.54  0.049095"
      ]
     },
     "execution_count": 100,
     "metadata": {},
     "output_type": "execute_result"
    }
   ],
   "source": [
    "# détection des tops clients\n",
    "top_clients_ = data_livres.groupby('client_id').price.agg([len,sum]).sort_values(by=\"len\",ascending=False)\n",
    "top_clients_[\"percent\"] = (top_clients_[\"sum\"]/sum(top_clients_[\"sum\"]))*100\n",
    "top_clients_ = top_clients_.sort_values(by='percent',ascending=False)\n",
    "top_clients_.head()"
   ]
  },
  {
   "cell_type": "code",
   "execution_count": null,
   "id": "68cc799a",
   "metadata": {},
   "outputs": [],
   "source": []
  }
 ],
 "metadata": {
  "kernelspec": {
   "display_name": "Python 3 (ipykernel)",
   "language": "python",
   "name": "python3"
  },
  "language_info": {
   "codemirror_mode": {
    "name": "ipython",
    "version": 3
   },
   "file_extension": ".py",
   "mimetype": "text/x-python",
   "name": "python",
   "nbconvert_exporter": "python",
   "pygments_lexer": "ipython3",
   "version": "3.11.5"
  }
 },
 "nbformat": 4,
 "nbformat_minor": 5
}
